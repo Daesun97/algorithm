{
  "nbformat": 4,
  "nbformat_minor": 0,
  "metadata": {
    "colab": {
      "provenance": [],
      "authorship_tag": "ABX9TyOk3WHBCuMFoQFHgU+Ksh2z",
      "include_colab_link": true
    },
    "kernelspec": {
      "name": "python3",
      "display_name": "Python 3"
    },
    "language_info": {
      "name": "python"
    }
  },
  "cells": [
    {
      "cell_type": "markdown",
      "metadata": {
        "id": "view-in-github",
        "colab_type": "text"
      },
      "source": [
        "<a href=\"https://colab.research.google.com/github/Daesun97/algorithm/blob/master/python300_281~.ipynb\" target=\"_parent\"><img src=\"https://colab.research.google.com/assets/colab-badge.svg\" alt=\"Open In Colab\"/></a>"
      ]
    },
    {
      "cell_type": "code",
      "execution_count": 7,
      "metadata": {
        "id": "n3D81uwtHw1v"
      },
      "outputs": [],
      "source": [
        "class car:\n",
        "    def __init__(self, wheel,price):\n",
        "        self.wheel =wheel\n",
        "        self.price = price\n",
        "\n"
      ]
    },
    {
      "cell_type": "code",
      "source": [
        "class bicycle(car):\n",
        "    def __init__(self, wheel,price):\n",
        "        self.wheel = wheel\n",
        "        self.price = price\n",
        "    \n",
        "    \n"
      ],
      "metadata": {
        "id": "oEAwTGqoKjrv"
      },
      "execution_count": 5,
      "outputs": []
    },
    {
      "cell_type": "markdown",
      "source": [
        "bicycle 클래스를 수정"
      ],
      "metadata": {
        "id": "NQ4kkaYjP-2n"
      }
    },
    {
      "cell_type": "code",
      "source": [
        "class bicycle(car):\n",
        "    def __init__(self,wheel,price,driving):\n",
        "        super().__init__(wheel,price) # 차.__init__(self, 바퀴, 가격)\n",
        "        self.driving = driving\n",
        "\n",
        "    def infomation(self):\n",
        "        print('바퀴수',self.wheel)\n",
        "        print('가격', self.price)\n",
        "        print('메이커', self.driving)\n",
        "cle = bicycle(2,1000,'스페셜라이즈드')\n",
        "print(cle.driving)\n",
        "print(cle.wheel)"
      ],
      "metadata": {
        "colab": {
          "base_uri": "https://localhost:8080/"
        },
        "id": "B8vQrDnSKlbO",
        "outputId": "b989ccfb-33ce-4b02-f171-ccad013371e4"
      },
      "execution_count": 9,
      "outputs": [
        {
          "output_type": "stream",
          "name": "stdout",
          "text": [
            "스페셜라이즈드\n",
            "2\n"
          ]
        }
      ]
    },
    {
      "cell_type": "code",
      "source": [
        "k3 = bicycle(4,1500,'Hyundai')\n",
        "k3.infomation()"
      ],
      "metadata": {
        "colab": {
          "base_uri": "https://localhost:8080/"
        },
        "id": "5SFqSzuqNNc3",
        "outputId": "e199e983-df54-4173-fd2c-1c03e749990a"
      },
      "execution_count": 10,
      "outputs": [
        {
          "output_type": "stream",
          "name": "stdout",
          "text": [
            "바퀴수 4\n",
            "가격 1500\n",
            "메이커 Hyundai\n"
          ]
        }
      ]
    },
    {
      "cell_type": "markdown",
      "source": [
        "car 클래스를 수정"
      ],
      "metadata": {
        "id": "CBnsiy9SP6Ww"
      }
    },
    {
      "cell_type": "code",
      "source": [
        "class car:\n",
        "    def __init__(self, wheel,price):\n",
        "        self.wheel =wheel\n",
        "        self.price = price\n",
        "\n",
        "    def infomation(self):\n",
        "        print('바퀴수',self.wheel)\n",
        "        print('가격', self.price)       \n",
        "\n",
        "class bic_cle(car):\n",
        "    def __init__(self,wheel,price,driving):\n",
        "        super().__init__(wheel,price)\n",
        "        self.driving = driving\n",
        "\n",
        "my_bike =  bic_cle(2, 55, 'samcheonli')\n",
        "my_bike.infomation()"
      ],
      "metadata": {
        "colab": {
          "base_uri": "https://localhost:8080/"
        },
        "id": "0Mmmfi8POrZQ",
        "outputId": "6f37ce01-c575-44c4-e7fe-7fc48e63b65f"
      },
      "execution_count": 11,
      "outputs": [
        {
          "output_type": "stream",
          "name": "stdout",
          "text": [
            "바퀴수 2\n",
            "가격 55\n"
          ]
        }
      ]
    },
    {
      "cell_type": "code",
      "source": [
        "class car:\n",
        "    def __init__(self, wheel,price):\n",
        "        self.wheel =wheel\n",
        "        self.price = price\n",
        "\n",
        "    def infomation(self):\n",
        "        print('바퀴수',self.wheel)\n",
        "        print('가격', self.price)       \n",
        "\n",
        "class bic_cle(car):\n",
        "    def __init__(self,wheel,price,driving):\n",
        "        super().__init__(wheel,price)\n",
        "        self.driving = driving\n",
        "\n",
        "    def infomation(self):\n",
        "        super().infomation() #car.infomation()\n",
        "        print('메이커', self.driving)\n",
        "\n",
        "my_bike =  bic_cle(2, 55, 'samcheonli')\n",
        "my_bike.infomation()\n"
      ],
      "metadata": {
        "colab": {
          "base_uri": "https://localhost:8080/"
        },
        "id": "HgkfnebKQQio",
        "outputId": "dce03dfd-6552-46d5-f9ed-d13af69953b4"
      },
      "execution_count": 12,
      "outputs": [
        {
          "output_type": "stream",
          "name": "stdout",
          "text": [
            "바퀴수 2\n",
            "가격 55\n",
            "메이커 samcheonli\n"
          ]
        }
      ]
    },
    {
      "cell_type": "code",
      "source": [
        "class 부모:\n",
        "    def 호출(self):\n",
        "        print(\"부모호출\")\n",
        "\n",
        "class 자식(부모):\n",
        "    def 호출(self):\n",
        "        print(\"자식호출\")\n",
        "\n",
        "\n",
        "나 = 자식() \n",
        "나.호출()  \n",
        "너 = 부모()\n",
        "너.호출()"
      ],
      "metadata": {
        "colab": {
          "base_uri": "https://localhost:8080/"
        },
        "id": "za28pjckQ3nA",
        "outputId": "e7acc62b-9c7b-48f2-d3e3-40a0be33e0d4"
      },
      "execution_count": 14,
      "outputs": [
        {
          "output_type": "stream",
          "name": "stdout",
          "text": [
            "자식호출\n",
            "부모호출\n"
          ]
        }
      ]
    },
    {
      "cell_type": "code",
      "source": [
        "class 부모:\n",
        "    def __init__(self):\n",
        "        print(\"부모생성\")\n",
        "\n",
        "class 자식(부모):\n",
        "  def __init__(self):\n",
        "    print(\"자식생성\")\n",
        "    super().__init__() #부모()\n",
        "\n",
        "나 = 자식()"
      ],
      "metadata": {
        "colab": {
          "base_uri": "https://localhost:8080/"
        },
        "id": "L28d7jw6RZh3",
        "outputId": "2ad631fc-de23-46d3-d197-83d7f784f54b"
      },
      "execution_count": 16,
      "outputs": [
        {
          "output_type": "stream",
          "name": "stdout",
          "text": [
            "자식생성\n",
            "부모생성\n"
          ]
        }
      ]
    }
  ]
}