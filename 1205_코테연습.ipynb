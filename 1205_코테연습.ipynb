{
  "nbformat": 4,
  "nbformat_minor": 0,
  "metadata": {
    "colab": {
      "provenance": [],
      "authorship_tag": "ABX9TyORA0Jc1h8CfukxCWUTubb8",
      "include_colab_link": true
    },
    "kernelspec": {
      "name": "python3",
      "display_name": "Python 3"
    },
    "language_info": {
      "name": "python"
    }
  },
  "cells": [
    {
      "cell_type": "markdown",
      "metadata": {
        "id": "view-in-github",
        "colab_type": "text"
      },
      "source": [
        "<a href=\"https://colab.research.google.com/github/Daesun97/algorithm/blob/master/1205_%EC%BD%94%ED%85%8C%EC%97%B0%EC%8A%B5.ipynb\" target=\"_parent\"><img src=\"https://colab.research.google.com/assets/colab-badge.svg\" alt=\"Open In Colab\"/></a>"
      ]
    },
    {
      "cell_type": "code",
      "execution_count": null,
      "metadata": {
        "id": "h0iKYKKG2x3s"
      },
      "outputs": [],
      "source": [
        "num_list = []\n",
        "sum_list = []\n",
        "result = 0\n",
        "n = int(input())\n",
        "\n",
        "for i in range(n):\n",
        "    num_list.append(int(input()))\n",
        "\n",
        "\n",
        "num_list.sort()\n",
        "\n",
        "result= num_list[0] + num_list[1]\n",
        "sum_list.append(result)\n",
        "for i in range(n):\n",
        "    if i+2 != n:        \n",
        "        result= result + num_list[i+2]\n",
        "        sum_list.append(result)\n",
        "        print(sum_list)\n",
        "\n",
        "    else:\n",
        "        break\n",
        "result = sum(sum_list)\n",
        "print(result)\n"
      ]
    }
  ]
}