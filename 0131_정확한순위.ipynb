{
  "nbformat": 4,
  "nbformat_minor": 0,
  "metadata": {
    "colab": {
      "provenance": [],
      "authorship_tag": "ABX9TyOulLqcIT/a0/cBCCXzsmL+",
      "include_colab_link": true
    },
    "kernelspec": {
      "name": "python3",
      "display_name": "Python 3"
    },
    "language_info": {
      "name": "python"
    }
  },
  "cells": [
    {
      "cell_type": "markdown",
      "metadata": {
        "id": "view-in-github",
        "colab_type": "text"
      },
      "source": [
        "<a href=\"https://colab.research.google.com/github/Daesun97/algorithm/blob/master/0131_%EC%A0%95%ED%99%95%ED%95%9C%EC%88%9C%EC%9C%84.ipynb\" target=\"_parent\"><img src=\"https://colab.research.google.com/assets/colab-badge.svg\" alt=\"Open In Colab\"/></a>"
      ]
    },
    {
      "cell_type": "code",
      "execution_count": 1,
      "metadata": {
        "colab": {
          "base_uri": "https://localhost:8080/"
        },
        "id": "QvenzPAhtsc1",
        "outputId": "88155192-c63a-4c4d-fad2-8fa0de639b2d"
      },
      "outputs": [
        {
          "output_type": "stream",
          "name": "stdout",
          "text": [
            "6 6\n",
            "1 5\n",
            "3 4\n",
            "4 2\n",
            "4 6\n",
            "5 2\n",
            "5 4\n",
            "1\n"
          ]
        }
      ],
      "source": [
        "INF = int(1e9) # 무한을 의미하는 값으로 10억을 설정\n",
        "\n",
        "# 노드의 개수, 간선의 개수를 입력받기\n",
        "n, m = map(int, input().split())\n",
        "# 2차원 리스트(그래프 표현)를 만들고, 모든 값을 무한으로 초기화\n",
        "graph = [[INF] * (n + 1) for _ in range(n + 1)]\n",
        " \n",
        "# 자기 자신에서 자기 자신으로 가는 비용은 0으로 초기화\n",
        "for a in range(1, n + 1):\n",
        "    for b in range(1, n + 1):\n",
        "        if a == b:\n",
        "            graph[a][b] = 0\n",
        " \n",
        "# 각 간선에 대한 정보를 입력 받아, 그 값으로 초기화\n",
        "for _ in range(m):\n",
        "    # A에서 B로 가는 비용을 1로 설정\n",
        "    a, b = map(int, input().split())\n",
        "    graph[a][b] = 1\n",
        " \n",
        "# 점화식에 따라 플로이드 워셜 알고리즘을 수행\n",
        "for k in range(1, n + 1):\n",
        "    for a in range(1, n + 1):\n",
        "        for b in range(1, n + 1):\n",
        "            graph[a][b] = min(graph[a][b], graph[a][k] + graph[k][b])\n",
        "\n",
        "result = 0\n",
        "# 각 학생을 번호에 따라 한 명씩 확인하며 도달 가능한지 체크\n",
        "for i in range(1, n + 1):\n",
        "    count = 0\n",
        "    for j in range(1, n + 1):\n",
        "        if graph[i][j] != INF or graph[j][i] != INF:\n",
        "            count += 1\n",
        "    if count == n:\n",
        "        result += 1\n",
        "print(result)"
      ]
    }
  ]
}