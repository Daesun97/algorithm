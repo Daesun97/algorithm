{
  "nbformat": 4,
  "nbformat_minor": 0,
  "metadata": {
    "colab": {
      "provenance": [],
      "authorship_tag": "ABX9TyMcqGUqeUkEugPC2c+pfogo",
      "include_colab_link": true
    },
    "kernelspec": {
      "name": "python3",
      "display_name": "Python 3"
    },
    "language_info": {
      "name": "python"
    }
  },
  "cells": [
    {
      "cell_type": "markdown",
      "metadata": {
        "id": "view-in-github",
        "colab_type": "text"
      },
      "source": [
        "<a href=\"https://colab.research.google.com/github/Daesun97/algorithm/blob/master/1204_221~.ipynb\" target=\"_parent\"><img src=\"https://colab.research.google.com/assets/colab-badge.svg\" alt=\"Open In Colab\"/></a>"
      ]
    },
    {
      "cell_type": "code",
      "execution_count": 5,
      "metadata": {
        "colab": {
          "base_uri": "https://localhost:8080/"
        },
        "id": "ob24DsjKd8Ki",
        "outputId": "83355161-c51e-4bf6-bcbc-4a24531d7a62"
      },
      "outputs": [
        {
          "output_type": "stream",
          "name": "stdout",
          "text": [
            "아이엠어보\n",
            "이유알어걸\n"
          ]
        }
      ],
      "source": [
        "def print_5xn(string):\n",
        "    xn5 = int(len(string) / 5) \n",
        "    for i in range(xn5):   \n",
        "        print(string[i * 5:i*5+5])\n",
        "\n",
        "\n",
        "print_5xn(\"아이엠어보이유알어걸\")\n"
      ]
    },
    {
      "cell_type": "code",
      "source": [
        "def print_mxn(string , num):    \n",
        "    mxn = int(len(string) / num)\n",
        "    for i in range(mxn + 1): # range에 +1하지않으면 마지막 글자 안나옴\n",
        "        print(string[i*num:i*num+num])\n",
        "\n",
        "\n",
        "print_mxn(\"아이엠어보이유알어걸\", 3)"
      ],
      "metadata": {
        "colab": {
          "base_uri": "https://localhost:8080/"
        },
        "id": "5FDuR2Yxfuzd",
        "outputId": "1cdee004-857d-4853-8d9c-f543e6a4976d"
      },
      "execution_count": 11,
      "outputs": [
        {
          "output_type": "stream",
          "name": "stdout",
          "text": [
            "아이엠\n",
            "어보이\n",
            "유알어\n",
            "걸\n"
          ]
        }
      ]
    },
    {
      "cell_type": "code",
      "source": [
        "def calc_monthly_salary(annual_salary):\n",
        "    return int(annual_salary / 12)\n",
        "calc_monthly_salary(12000000)"
      ],
      "metadata": {
        "colab": {
          "base_uri": "https://localhost:8080/"
        },
        "id": "SM5IKmu_g7Hl",
        "outputId": "7e5a4e54-6b83-4d24-a397-a520fbf0dc7c"
      },
      "execution_count": 13,
      "outputs": [
        {
          "output_type": "execute_result",
          "data": {
            "text/plain": [
              "1000000"
            ]
          },
          "metadata": {},
          "execution_count": 13
        }
      ]
    },
    {
      "cell_type": "markdown",
      "source": [
        "231~"
      ],
      "metadata": {
        "id": "Nvhk2-lEelCs"
      }
    },
    {
      "cell_type": "code",
      "source": [
        "def make_url(url):\n",
        "    print(f'www.{url}.com')\n",
        "make_url('naver')"
      ],
      "metadata": {
        "colab": {
          "base_uri": "https://localhost:8080/"
        },
        "id": "B1Iz_nNSej4L",
        "outputId": "ff063532-eb9f-42f4-cf93-fc828e12af5e"
      },
      "execution_count": 1,
      "outputs": [
        {
          "output_type": "stream",
          "name": "stdout",
          "text": [
            "www.naver.com\n"
          ]
        }
      ]
    },
    {
      "cell_type": "code",
      "source": [
        "def make_list(str):\n",
        "    lis = []\n",
        "    for i in str:\n",
        "        lis.append(i)\n",
        "\n",
        "    return lis\n",
        "\n",
        "def make_list(str):\n",
        "    return list(str)\n",
        "\n",
        "make_list(\"abcd\")"
      ],
      "metadata": {
        "colab": {
          "base_uri": "https://localhost:8080/"
        },
        "id": "mhkcj4ImfVyS",
        "outputId": "6bf36df6-3bd1-46b3-efeb-b95db17a9531"
      },
      "execution_count": 3,
      "outputs": [
        {
          "output_type": "execute_result",
          "data": {
            "text/plain": [
              "['a', 'b', 'c', 'd']"
            ]
          },
          "metadata": {},
          "execution_count": 3
        }
      ]
    },
    {
      "cell_type": "code",
      "source": [
        "def pickup_even(num_list):\n",
        "    even = []\n",
        "    for i in num_list:\n",
        "        if i % 2 ==0:\n",
        "            even.append(i)\n",
        "\n",
        "    return even\n",
        "\n",
        "pickup_even([3, 4, 5, 6, 7, 8])"
      ],
      "metadata": {
        "colab": {
          "base_uri": "https://localhost:8080/"
        },
        "id": "8_rEpKYYgBla",
        "outputId": "c080429d-d67d-4e75-99b9-d95f820dd78a"
      },
      "execution_count": 4,
      "outputs": [
        {
          "output_type": "execute_result",
          "data": {
            "text/plain": [
              "[4, 6, 8]"
            ]
          },
          "metadata": {},
          "execution_count": 4
        }
      ]
    },
    {
      "cell_type": "code",
      "source": [
        "def convert_int(str):\n",
        "    \n",
        "\n",
        "    return int(str.replace(',',''))\n",
        "convert_int(\"1,234,567\")"
      ],
      "metadata": {
        "colab": {
          "base_uri": "https://localhost:8080/"
        },
        "id": "4YitG4tRgfJZ",
        "outputId": "6f9a7abd-7f6b-4fc0-f574-831e00d3c459"
      },
      "execution_count": 10,
      "outputs": [
        {
          "output_type": "execute_result",
          "data": {
            "text/plain": [
              "1234567"
            ]
          },
          "metadata": {},
          "execution_count": 10
        }
      ]
    }
  ]
}