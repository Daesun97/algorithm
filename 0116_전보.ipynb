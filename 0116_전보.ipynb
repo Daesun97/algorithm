{
  "nbformat": 4,
  "nbformat_minor": 0,
  "metadata": {
    "colab": {
      "provenance": [],
      "authorship_tag": "ABX9TyPyg1lUxqIYqXJpg1wjex6h",
      "include_colab_link": true
    },
    "kernelspec": {
      "name": "python3",
      "display_name": "Python 3"
    },
    "language_info": {
      "name": "python"
    }
  },
  "cells": [
    {
      "cell_type": "markdown",
      "metadata": {
        "id": "view-in-github",
        "colab_type": "text"
      },
      "source": [
        "<a href=\"https://colab.research.google.com/github/Daesun97/algorithm/blob/master/0116_%EC%A0%84%EB%B3%B4.ipynb\" target=\"_parent\"><img src=\"https://colab.research.google.com/assets/colab-badge.svg\" alt=\"Open In Colab\"/></a>"
      ]
    },
    {
      "cell_type": "markdown",
      "source": [
        "최단경로 실전문제 2번 전보"
      ],
      "metadata": {
        "id": "2NNudzNDbrx-"
      }
    },
    {
      "cell_type": "code",
      "execution_count": 7,
      "metadata": {
        "colab": {
          "base_uri": "https://localhost:8080/"
        },
        "id": "y9ULn5Rgbl5w",
        "outputId": "a09378a6-0946-4e3c-848d-93cca45677ac"
      },
      "outputs": [
        {
          "output_type": "stream",
          "name": "stdout",
          "text": [
            "3 2 1\n",
            "1 2 4\n",
            "1 3 2\n",
            "<module 'heapq' from '/usr/lib/python3.8/heapq.py'>\n",
            "0 1\n",
            "2 3\n",
            "4 2\n",
            "2 4\n"
          ]
        }
      ],
      "source": [
        "import heapq\n",
        "# import sys\n",
        "# input = sys.stdin.readline \n",
        "### 이거쓰면 그냥 input() 보다 속도면에서 빠르다는데 에러나서 일단 주석처리 ### 알아보니 코랩이랑 쥬피터 노트북, 스파이더들은 한번씩 이런거 지원 안해줌 ㅋㅋ\n",
        "## python에서 직접 지원하는 곳을 쓰면 됨\n",
        "\n",
        "INF = int(1e9) # 무한을 의미하는 값으로 10억을 설정\n",
        "\n",
        "# 노드의 개수, 간선의 개수, 시작 노드를 입력받기\n",
        "n, m, start = map(int,input().split())\n",
        "\n",
        "# 각 노드에 연결되어 있는 노드에 대한 정보를 담는 리스트를 만들기\n",
        "graph = [[] for i in range(n + 1)]\n",
        "# 최단 거리 테이블을 모두 무한으로 초기화\n",
        "distance = [INF] * (n + 1)\n",
        "\n",
        "# 모든 간선 정보를 입력받기\n",
        "for _ in range(m):\n",
        "    x, y, z = map(int, input().split())\n",
        "    # X번 노드에서 Y번 노드로 가는 비용이 Z라는 의미\n",
        "    graph[x].append((y, z))\n",
        "\n",
        "def dijkstra(start):\n",
        "   q = []\n",
        "   # 시작 노드로 가기 위한 최단 경로는 0으로 설정하여, 큐에 삽입\n",
        "   heapq.heappush(q, (0, start))\n",
        "   distance[start] = 0\n",
        "   while q: # 큐가 비어있지 않다면\n",
        "        # 가장 최단 거리가 짧은 노드에 대한 정보를 꺼내기\n",
        "        dist, now = heapq.heappop(q)\n",
        "        print(dist,now)\n",
        "\n",
        "        if distance[now] < dist:\n",
        "            continue\n",
        "        # 현재 노드와 연결된 다른 인접한 노드들을 확인\n",
        "        for i in graph[now]:\n",
        "            cost = dist + i[1]\n",
        "            # 현재 노드를 거쳐서, 다른 노드로 이동하는 거리가 더 짧은 경우\n",
        "            if cost < distance[i[0]]:\n",
        "                distance[i[0]] = cost\n",
        "                heapq.heappush(q, (cost, i[0]))\n",
        "\n",
        "# 다익스트라 알고리즘을 수행\n",
        "dijkstra(start)\n",
        "\n",
        "# 도달할 수 있는 노드의 개수\n",
        "count = 0\n",
        "# 도달할 수 있는 노드 중에서, 가장 멀리 있는 노드와의 최단 거리\n",
        "max_distance = 0\n",
        "for d in distance:\n",
        "    # 도달할 수 있는 노드인 경우\n",
        "    if d != 1e9:\n",
        "        count += 1\n",
        "        max_distance = max(max_distance, d)\n",
        "\n",
        "# 시작 노드는 제외해야 하므로 count - 1을 출력\n",
        "print(count - 1, max_distance)"
      ]
    }
  ]
}