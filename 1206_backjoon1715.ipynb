{
  "nbformat": 4,
  "nbformat_minor": 0,
  "metadata": {
    "colab": {
      "provenance": [],
      "authorship_tag": "ABX9TyMR1SZoHQ68CBIUt3JFDWiV",
      "include_colab_link": true
    },
    "kernelspec": {
      "name": "python3",
      "display_name": "Python 3"
    },
    "language_info": {
      "name": "python"
    }
  },
  "cells": [
    {
      "cell_type": "markdown",
      "metadata": {
        "id": "view-in-github",
        "colab_type": "text"
      },
      "source": [
        "<a href=\"https://colab.research.google.com/github/Daesun97/algorithm/blob/master/1206_backjoon1715.ipynb\" target=\"_parent\"><img src=\"https://colab.research.google.com/assets/colab-badge.svg\" alt=\"Open In Colab\"/></a>"
      ]
    },
    {
      "cell_type": "code",
      "execution_count": null,
      "metadata": {
        "id": "u_uHTvaVPHev"
      },
      "outputs": [],
      "source": [
        "import heapq  #이진 트리(binary tree) 기반의 최소 힙(min heap) 자료구조를 제공\n",
        "\n",
        "n = int(input())\n",
        "\n",
        "# 힙(Heap)에 초기 카드 묶음을 모두 삽입\n",
        "heap = []\n",
        "for i in range(n):\n",
        "    data = int(input())\n",
        "    heapq.heappush(heap, data) # heappush = (리스트 명, 넣을 데이터)\n",
        "\n",
        "result = 0\n",
        "\n",
        "# 힙(Heap)에 원소가 1개 남을 때까지\n",
        "while len(heap) != 1:\n",
        "    # 가장 작은 2개의 카드 묶음 꺼내기\n",
        "    one = heapq.heappop(heap) \n",
        "    two = heapq.heappop(heap)\n",
        "    # 카드 묶음을 합쳐서 다시 삽입\n",
        "    sum_value = one + two\n",
        "    result += sum_value\n",
        "    heapq.heappush(heap, sum_value)\n",
        "\n",
        "print(result)"
      ]
    }
  ]
}