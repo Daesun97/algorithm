{
  "nbformat": 4,
  "nbformat_minor": 0,
  "metadata": {
    "colab": {
      "provenance": [],
      "authorship_tag": "ABX9TyP08Ijx8Q3YsLGsxtTnV+M6",
      "include_colab_link": true
    },
    "kernelspec": {
      "name": "python3",
      "display_name": "Python 3"
    },
    "language_info": {
      "name": "python"
    }
  },
  "cells": [
    {
      "cell_type": "markdown",
      "metadata": {
        "id": "view-in-github",
        "colab_type": "text"
      },
      "source": [
        "<a href=\"https://colab.research.google.com/github/Daesun97/algorithm/blob/master/%EA%B8%88%EA%B4%91.ipynb\" target=\"_parent\"><img src=\"https://colab.research.google.com/assets/colab-badge.svg\" alt=\"Open In Colab\"/></a>"
      ]
    },
    {
      "cell_type": "markdown",
      "source": [
        "맵이 주어지고 1,1에서 시작함\n",
        "무조건 오른쪽으로만 갈 수 있는데\n",
        "오른쪽 위, 오른쪽, 오른쪽 아래 이렇게 세방향으로 움직일 수 있음\n",
        "(근데 왜 밑으로 갈수 있는지 모르겠음 문제에서는걍 밑으로 감)\n",
        "이때 지나가면서 금을 줍는데 최대의 금을 주웠을때 그 금의 양을 알아내는 방식\n",
        "\n",
        "1. 맵 입력 받고\n",
        "2. 맨 왼쪽 위부터 시작해서 오른쪽(위,아래)로 이동하며 더함\n",
        "3. max함수로 제일 큰 값 도출"
      ],
      "metadata": {
        "id": "LSbXcVZSeFe3"
      }
    },
    {
      "cell_type": "code",
      "execution_count": null,
      "metadata": {
        "id": "bwafbkU4dKGq"
      },
      "outputs": [],
      "source": [
        "# 테스트 케이스(Test Case) 입력\n",
        "for tc in range(int(input())):\n",
        "    # 금광 정보 입력\n",
        "    n, m = map(int, input().split())\n",
        "    array = list(map(int, input().split()))\n",
        "\n",
        "    # 다이나믹 프로그래밍을 위한 2차원 DP 테이블 초기화\n",
        "    dp = []\n",
        "    index = 0\n",
        "    for i in range(n):\n",
        "        dp.append(array[index:index + m])\n",
        "        index += m\n",
        "\n",
        "    # 다이나믹 프로그래밍 진행\n",
        "    for j in range(1, m):\n",
        "        for i in range(n):\n",
        "            # 왼쪽 위에서 오는 경우\n",
        "            if i == 0:\n",
        "                left_up = 0\n",
        "            else:\n",
        "                left_up = dp[i - 1][j - 1]\n",
        "            # 왼쪽 아래에서 오는 경우\n",
        "            if i == n - 1:\n",
        "                left_down = 0\n",
        "            else:\n",
        "                left_down = dp[i + 1][j - 1]\n",
        "            # 왼쪽에서 오는 경우\n",
        "            left = dp[i][j - 1]\n",
        "            dp[i][j] = dp[i][j] + max(left_up, left_down, left)\n",
        "\n",
        "    result = 0\n",
        "    for i in range(n):\n",
        "        result = max(result, dp[i][m - 1])\n",
        "\n",
        "    print(result)"
      ]
    }
  ]
}