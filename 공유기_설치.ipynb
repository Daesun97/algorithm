{
  "nbformat": 4,
  "nbformat_minor": 0,
  "metadata": {
    "colab": {
      "provenance": [],
      "authorship_tag": "ABX9TyNZ75VhS9q3OHPEaVKpRYot",
      "include_colab_link": true
    },
    "kernelspec": {
      "name": "python3",
      "display_name": "Python 3"
    },
    "language_info": {
      "name": "python"
    }
  },
  "cells": [
    {
      "cell_type": "markdown",
      "metadata": {
        "id": "view-in-github",
        "colab_type": "text"
      },
      "source": [
        "<a href=\"https://colab.research.google.com/github/Daesun97/algorithm/blob/master/%EA%B3%B5%EC%9C%A0%EA%B8%B0_%EC%84%A4%EC%B9%98.ipynb\" target=\"_parent\"><img src=\"https://colab.research.google.com/assets/colab-badge.svg\" alt=\"Open In Colab\"/></a>"
      ]
    },
    {
      "cell_type": "markdown",
      "source": [
        "이진탐색 29번"
      ],
      "metadata": {
        "id": "dbA_CSBPIrdI"
      }
    },
    {
      "cell_type": "markdown",
      "source": [
        "도현이 라는 친구가 집이 N개 있음\n",
        "집 여러 개가 같은 좌표를 가지는 일은 없음\n",
        "어디서나 와이파이를 쓸려고 공유기를 C개를 설치함\n",
        "집은 많은 주제에 공유기는 아끼려고 한집에는 하나만 설치할수 있고,\n",
        "가장 인접한 공유기 사이의 거리를 가능한 크게하여 설치하려함\n",
        "\n",
        "첫째 줄에는 집이 2<= N <=200.000 개 주어짐, 공유기는 2<= C <=N개 주어짐\n",
        "둘째 줄부터는  집의 좌표가 주어짐\n",
        "\n",
        "가장 인접한 두 공유기 사이의 최대 거리를 출력해야함.\n"
      ],
      "metadata": {
        "id": "_bocucaTHVGp"
      }
    },
    {
      "cell_type": "code",
      "execution_count": 1,
      "metadata": {
        "colab": {
          "base_uri": "https://localhost:8080/"
        },
        "id": "_418CEPHHQ0w",
        "outputId": "15c08d77-587a-4e64-cfe0-b828b8440560"
      },
      "outputs": [
        {
          "output_type": "stream",
          "name": "stdout",
          "text": [
            "5 3\n",
            "2\n",
            "3\n",
            "5\n",
            "9\n",
            "10\n",
            "3\n"
          ]
        }
      ],
      "source": [
        "# 집의 개수(N)와 공유기의 개수(C)를 입력 받기\n",
        "n, c = list(map(int, input().split(' ')))\n",
        "\n",
        "# 전체 집의 좌표 정보를 입력 받기\n",
        "array = []\n",
        "for _ in range(n):\n",
        "     array.append(int(input()))\n",
        "array.sort() # 이진 탐색 수행을 위해 정렬 수행\n",
        "\n",
        "start = 1 # 가능한 최소 거리(min gap)\n",
        "end = array[-1] - array[0] # 가능한 최대 거리(max gap)\n",
        "result = 0\n",
        "\n",
        "while(start <= end):\n",
        "    mid = (start + end) // 2 # mid는 가장 인접한 두 공유기 사이의 거리(gap)을 의미 \n",
        "    # 첫째 집에는 무조건 공유기를 설치한다고 가정\n",
        "    value = array[0]  #value == 공유기 설치된 집\n",
        "    count = 1\n",
        "    # 현재의 mid 값을 이용해 공유기를 설치하기\n",
        "    for i in range(1, n): # 앞에서부터 차근차근 설치 \n",
        "        if array[i] >= value + mid:\n",
        "            value = array[i] # 공유기 설치된 집으로\n",
        "            count += 1\n",
        "    if count >= c: # C개 이상의 공유기를 설치할 수 있는 경우, 거리를 증가시키기\n",
        "        start = mid + 1\n",
        "        result = mid # 최적의 결과를 저장\n",
        "    else: # C개 이상의 공유기를 설치할 수 없는 경우, 거리를 감소시키기\n",
        "        end = mid - 1\n",
        "\n",
        "print(result)"
      ]
    }
  ]
}