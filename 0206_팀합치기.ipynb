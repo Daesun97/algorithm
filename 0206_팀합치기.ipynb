{
  "nbformat": 4,
  "nbformat_minor": 0,
  "metadata": {
    "colab": {
      "provenance": [],
      "authorship_tag": "ABX9TyMtzZI7kxw9+rno1TbLazoM",
      "include_colab_link": true
    },
    "kernelspec": {
      "name": "python3",
      "display_name": "Python 3"
    },
    "language_info": {
      "name": "python"
    }
  },
  "cells": [
    {
      "cell_type": "markdown",
      "metadata": {
        "id": "view-in-github",
        "colab_type": "text"
      },
      "source": [
        "<a href=\"https://colab.research.google.com/github/Daesun97/algorithm/blob/master/0206_%ED%8C%80%ED%95%A9%EC%B9%98%EA%B8%B0.ipynb\" target=\"_parent\"><img src=\"https://colab.research.google.com/assets/colab-badge.svg\" alt=\"Open In Colab\"/></a>"
      ]
    },
    {
      "cell_type": "markdown",
      "source": [
        "이것이 취업을 위한 코딩테스트다\n",
        "10장 기타 그래프 이론\n",
        "실전문제 1. 팀 합치기"
      ],
      "metadata": {
        "id": "Z45wVSpsdl3v"
      }
    },
    {
      "cell_type": "code",
      "execution_count": 1,
      "metadata": {
        "colab": {
          "base_uri": "https://localhost:8080/"
        },
        "id": "iO0YWPfLQtDz",
        "outputId": "d8c6f675-c5ec-481e-c6f9-ffe092bb6694"
      },
      "outputs": [
        {
          "output_type": "stream",
          "name": "stdout",
          "text": [
            "5 5\n",
            "0 1 3\n",
            "1 1 5\n",
            "NO\n",
            "0 5 4\n",
            "0 1 5\n",
            "1 3 5\n",
            "YES\n"
          ]
        }
      ],
      "source": [
        "# 특정 원소가 속한 집합을 찾기\n",
        "def find_parent(parent, x):\n",
        "    # 루트 노드가 아니라면, 루트 노드를 찾을 때까지 재귀적으로 호출\n",
        "    if parent[x] != x:\n",
        "        parent[x] = find_parent(parent, parent[x])\n",
        "    return parent[x]\n",
        "\n",
        "# 두 원소가 속한 집합을 합치기\n",
        "def union_parent(parent, a, b):\n",
        "    a = find_parent(parent, a)\n",
        "    b = find_parent(parent, b)\n",
        "    if a < b:\n",
        "        parent[b] = a\n",
        "    else:\n",
        "        parent[a] = b\n",
        "\n",
        "n, m = map(int, input().split())\n",
        "parent = [0] * (n + 1) # 부모 테이블 초기화\n",
        "\n",
        "# 부모 테이블상에서, 부모를 자기 자신으로 초기화\n",
        "for i in range(0, n + 1):\n",
        "    parent[i] = i\n",
        "\n",
        "# 각 연산을 하나씩 확인\n",
        "for i in range(m):\n",
        "    oper, a, b = map(int, input().split())\n",
        "    # 합치합(Union) 연산인 경우\n",
        "    if oper == 0:\n",
        "        union_parent(parent, a, b)\n",
        "    # 찾기(Find) 연산인 경우\n",
        "    elif oper == 1:\n",
        "        if find_parent(parent, a) == find_parent(parent, b):\n",
        "            print('YES')\n",
        "        else:\n",
        "            print('NO')"
      ]
    }
  ]
}