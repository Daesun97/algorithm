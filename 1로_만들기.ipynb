{
  "nbformat": 4,
  "nbformat_minor": 0,
  "metadata": {
    "colab": {
      "provenance": [],
      "authorship_tag": "ABX9TyMgAxU02eB6lDBaEE9mYGD3",
      "include_colab_link": true
    },
    "kernelspec": {
      "name": "python3",
      "display_name": "Python 3"
    },
    "language_info": {
      "name": "python"
    }
  },
  "cells": [
    {
      "cell_type": "markdown",
      "metadata": {
        "id": "view-in-github",
        "colab_type": "text"
      },
      "source": [
        "<a href=\"https://colab.research.google.com/github/Daesun97/algorithm/blob/master/1%EB%A1%9C_%EB%A7%8C%EB%93%A4%EA%B8%B0.ipynb\" target=\"_parent\"><img src=\"https://colab.research.google.com/assets/colab-badge.svg\" alt=\"Open In Colab\"/></a>"
      ]
    },
    {
      "cell_type": "markdown",
      "source": [
        "조건\n",
        "x가 5로 떨어지면 5로 나눔\n",
        "x가 3으로 떨어지면 3으로 나눔\n",
        "x가 2로 나눠지면 2로 나눔\n",
        "x에서 1을 뺌\n",
        "\n",
        "으로 정수 x를 1로 만들때 연산이 가장 적은 경우를 찾아라"
      ],
      "metadata": {
        "id": "U6NRc-XHuS-s"
      }
    },
    {
      "cell_type": "code",
      "execution_count": 1,
      "metadata": {
        "colab": {
          "base_uri": "https://localhost:8080/"
        },
        "id": "WMuUFFmjrtaS",
        "outputId": "45cb5be1-23ce-4a1d-c9e4-b7efa0e3db38"
      },
      "outputs": [
        {
          "output_type": "stream",
          "name": "stdout",
          "text": [
            "26\n",
            "3\n"
          ]
        }
      ],
      "source": [
        "# 정수 X를 입력 받기\n",
        "x = int(input())\n",
        "\n",
        "# 앞서 계산된 결과를 저장하기 위한 DP 테이블 초기화\n",
        "d = [0] * 30001\n",
        "\n",
        "# 다이나믹 프로그래밍(Dynamic Programming) 진행(보텀업)\n",
        "for i in range(2, x + 1):\n",
        "    # 현재의 수에서 1을 빼는 경우\n",
        "    d[i] = d[i - 1] + 1\n",
        "    # 현재의 수가 2로 나누어 떨어지는 경우\n",
        "    if i % 2 == 0:\n",
        "        d[i] = min(d[i], d[i // 2] + 1)\n",
        "    # 현재의 수가 3으로 나누어 떨어지는 경우\n",
        "    if i % 3 == 0:\n",
        "        d[i] = min(d[i], d[i // 3] + 1)\n",
        "    # 현재의 수가 5로 나누어 떨어지는 경우\n",
        "    if i % 5 == 0:\n",
        "        d[i] = min(d[i], d[i // 5] + 1)\n",
        "\n",
        "print(d[x])"
      ]
    },
    {
      "cell_type": "code",
      "source": [
        "for i in range(2, x + 1):\n",
        "    print(d[i]) # 2~26까지 연산 수"
      ],
      "metadata": {
        "colab": {
          "base_uri": "https://localhost:8080/"
        },
        "id": "jd7r0Rzm_aYM",
        "outputId": "296b4773-d60d-4ff3-9150-2a10c5817d28"
      },
      "execution_count": 2,
      "outputs": [
        {
          "output_type": "stream",
          "name": "stdout",
          "text": [
            "1\n",
            "1\n",
            "2\n",
            "1\n",
            "2\n",
            "3\n",
            "3\n",
            "2\n",
            "2\n",
            "3\n",
            "3\n",
            "4\n",
            "4\n",
            "2\n",
            "3\n",
            "4\n",
            "3\n",
            "4\n",
            "3\n",
            "4\n",
            "4\n",
            "5\n",
            "4\n",
            "2\n",
            "3\n"
          ]
        }
      ]
    }
  ]
}