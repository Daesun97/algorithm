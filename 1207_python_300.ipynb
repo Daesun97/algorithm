{
  "nbformat": 4,
  "nbformat_minor": 0,
  "metadata": {
    "colab": {
      "provenance": [],
      "authorship_tag": "ABX9TyM+hiIKQKY+rzgqhRy6aRoA"
    },
    "kernelspec": {
      "name": "python3",
      "display_name": "Python 3"
    },
    "language_info": {
      "name": "python"
    }
  },
  "cells": [
    {
      "cell_type": "markdown",
      "source": [
        "241~"
      ],
      "metadata": {
        "id": "v1cQ4UwQEH6I"
      }
    },
    {
      "cell_type": "code",
      "execution_count": 3,
      "metadata": {
        "colab": {
          "base_uri": "https://localhost:8080/"
        },
        "id": "_OMi2kK8DxPi",
        "outputId": "6239c549-e9a4-496d-c08b-eb5739f25b17"
      },
      "outputs": [
        {
          "output_type": "stream",
          "name": "stdout",
          "text": [
            "<class 'datetime.datetime'> 2022-12-07 05:32:29.037629\n"
          ]
        }
      ],
      "source": [
        "import datetime\n",
        "print(type(datetime.datetime.now()),datetime.datetime.now()) # 현제시간 "
      ]
    },
    {
      "cell_type": "code",
      "source": [
        "now =datetime.datetime.now()\n",
        "\n",
        "for i in range(1,6):\n",
        "    days = datetime.timedelta(days=day) #날짜나 달, 년 다빼고 더 할수 있음\n",
        "    date = (now - days)\n",
        "    print(date)"
      ],
      "metadata": {
        "colab": {
          "base_uri": "https://localhost:8080/"
        },
        "id": "kHiBsUN6Emsv",
        "outputId": "35b1d3a2-b1b2-4a6c-a310-8600bf3e3dd0"
      },
      "execution_count": 8,
      "outputs": [
        {
          "output_type": "stream",
          "name": "stdout",
          "text": [
            "2022-12-06 05:36:14.879329\n",
            "2022-12-06 05:36:14.879329\n",
            "2022-12-06 05:36:14.879329\n",
            "2022-12-06 05:36:14.879329\n",
            "2022-12-06 05:36:14.879329\n"
          ]
        }
      ]
    },
    {
      "cell_type": "code",
      "source": [
        "print(now.strftime(\"%H:%M:%S\"))  #시간을 시,분,초 형식으로 변경 :에 다른거 넣어도 됨"
      ],
      "metadata": {
        "colab": {
          "base_uri": "https://localhost:8080/"
        },
        "id": "rkIAYaGiFTzm",
        "outputId": "ee23a47d-9f54-41ff-dcfa-83a8c179bdb0"
      },
      "execution_count": 13,
      "outputs": [
        {
          "output_type": "stream",
          "name": "stdout",
          "text": [
            "05:36:14\n"
          ]
        }
      ]
    },
    {
      "cell_type": "code",
      "source": [
        "import datetime\n",
        "\n",
        "day = \"2022-12-07\"\n",
        "ret = datetime.datetime.strptime(day, \"%Y-%m-%d\")  # 문자열을 시계열로 변환\n",
        "print(ret, type(ret))"
      ],
      "metadata": {
        "colab": {
          "base_uri": "https://localhost:8080/"
        },
        "id": "GiBDFyX8GNFe",
        "outputId": "10da59a4-1908-4c9c-c4d9-e5406163e00d"
      },
      "execution_count": 14,
      "outputs": [
        {
          "output_type": "stream",
          "name": "stdout",
          "text": [
            "2022-12-07 00:00:00 <class 'datetime.datetime'>\n"
          ]
        }
      ]
    },
    {
      "cell_type": "code",
      "source": [
        "import time, datetime\n",
        "end = 0\n",
        "while end != 10:\n",
        "    now = datetime.datetime.now()\n",
        "    print(now)\n",
        "    time.sleep(1) #1초 대기하는 함수 sleep()\n",
        "    end +=1\n"
      ],
      "metadata": {
        "colab": {
          "base_uri": "https://localhost:8080/"
        },
        "id": "uqjley3rG9DV",
        "outputId": "2ba57c91-af18-49f5-ebc9-c089a98ca8a1"
      },
      "execution_count": 16,
      "outputs": [
        {
          "output_type": "stream",
          "name": "stdout",
          "text": [
            "2022-12-07 05:45:46.934729\n",
            "2022-12-07 05:45:47.938397\n",
            "2022-12-07 05:45:48.938876\n",
            "2022-12-07 05:45:49.940225\n",
            "2022-12-07 05:45:50.941553\n",
            "2022-12-07 05:45:51.942873\n",
            "2022-12-07 05:45:52.944157\n",
            "2022-12-07 05:45:53.945411\n",
            "2022-12-07 05:45:54.946726\n",
            "2022-12-07 05:45:55.948060\n"
          ]
        }
      ]
    },
    {
      "cell_type": "code",
      "source": [],
      "metadata": {
        "id": "zzErw3RrHpSt"
      },
      "execution_count": null,
      "outputs": []
    }
  ]
}