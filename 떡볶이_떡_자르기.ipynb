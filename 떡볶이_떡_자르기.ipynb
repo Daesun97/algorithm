{
  "nbformat": 4,
  "nbformat_minor": 0,
  "metadata": {
    "colab": {
      "provenance": [],
      "authorship_tag": "ABX9TyPOAkrxkQ6kNYI319nHRveT",
      "include_colab_link": true
    },
    "kernelspec": {
      "name": "python3",
      "display_name": "Python 3"
    },
    "language_info": {
      "name": "python"
    }
  },
  "cells": [
    {
      "cell_type": "markdown",
      "metadata": {
        "id": "view-in-github",
        "colab_type": "text"
      },
      "source": [
        "<a href=\"https://colab.research.google.com/github/Daesun97/algorithm/blob/master/%EB%96%A1%EB%B3%B6%EC%9D%B4_%EB%96%A1_%EC%9E%90%EB%A5%B4%EA%B8%B0.ipynb\" target=\"_parent\"><img src=\"https://colab.research.google.com/assets/colab-badge.svg\" alt=\"Open In Colab\"/></a>"
      ]
    },
    {
      "cell_type": "markdown",
      "source": [
        "이것이 취업을 위한 코딩테스트다 "
      ],
      "metadata": {
        "id": "dWixJrfiKmBW"
      }
    },
    {
      "cell_type": "markdown",
      "source": [
        "문제설명\n",
        "1. 떡을 자르는 데 떡의 길이가 다 다름\n",
        "2. 떡을 자르는데 남는 길이를 원하는 길이로 만들고 싶음\n"
      ],
      "metadata": {
        "id": "X11jkM8iKq69"
      }
    },
    {
      "cell_type": "markdown",
      "source": [
        "인풋 방식\n",
        "\n",
        "n = 떡의 갯수, m = 원하는 길이\n",
        "\n",
        "각각 떡의 길이\n"
      ],
      "metadata": {
        "id": "DW1leTQXLEd0"
      }
    },
    {
      "cell_type": "code",
      "execution_count": null,
      "metadata": {
        "id": "Do3eJyvuKcQJ"
      },
      "outputs": [],
      "source": [
        "# 떡의 개수(N)와 요청한 떡의 길이(M)을 입력\n",
        "n, m = list(map(int, input().split(' ')))\n",
        "# 각 떡의 개별 높이 정보를 입력\n",
        "array = list(map(int, input().split()))\n",
        "\n",
        "# 이진 탐색을 위한 시작점과 끝점 설정\n",
        "start = 0\n",
        "end = max(array)\n",
        "\n",
        "# 이진 탐색 수행 (반복적)\n",
        "result = 0\n",
        "while(start <= end):\n",
        "    total = 0\n",
        "    mid = (start + end) // 2\n",
        "    for x in array:\n",
        "        # 잘랐을 때의 떡볶이 양 계산\n",
        "        if x > mid:\n",
        "            total += x - mid\n",
        "    # 떡볶이 양이 부족한 경우 더 많이 자르기 (오른쪽 부분 탐색)\n",
        "    if total < m:\n",
        "        end = mid - 1\n",
        "    # 떡볶이 양이 충분한 경우 덜 자르기 (왼쪽 부분 탐색)\n",
        "    else:\n",
        "        result = mid # 최대한 덜 잘랐을 때가 정답이므로, 여기에서 result에 기록\n",
        "        start = mid + 1\n",
        "\n",
        "# 정답 출력\n",
        "print(result)"
      ]
    }
  ]
}